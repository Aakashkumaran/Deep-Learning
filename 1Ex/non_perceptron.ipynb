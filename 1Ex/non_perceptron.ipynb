{
 "cells": [
  {
   "cell_type": "code",
   "execution_count": 3,
   "metadata": {},
   "outputs": [
    {
     "name": "stdout",
     "output_type": "stream",
     "text": [
      "AND(-1, -1) = -1\n",
      "AND(-1, 1) = -1\n",
      "AND(1, -1) = -1\n",
      "AND(1, 1) = 1\n"
     ]
    }
   ],
   "source": [
    "import numpy as np\n",
    "  \n",
    "# define binary activation Function\n",
    "def binary(v):\n",
    "    if v >= 0:\n",
    "        return 1\n",
    "    else:\n",
    "        return -1\n",
    "  \n",
    "# design Perceptron Model\n",
    "def perceptronModel(x, w, b):\n",
    "    v = np.dot(w, x) + b\n",
    "    y = binary(v)\n",
    "    return y\n",
    "  \n",
    "# AND Logic Function\n",
    "# w1 = 1, w2 = 1, b = -1.5\n",
    "def AND_logicFunction(x):\n",
    "    w = np.array([1, 1])\n",
    "    b = -1.5\n",
    "    return perceptronModel(x, w, b)\n",
    "  \n",
    "# testing the Perceptron Model\n",
    "test1 = np.array([-1, -1])\n",
    "test2 = np.array([-1, 1])\n",
    "test3 = np.array([1, -1])\n",
    "test4 = np.array([1, 1])\n",
    "  \n",
    "print(\"AND({}, {}) = {}\".format(-1, -1, AND_logicFunction(test1)))\n",
    "print(\"AND({}, {}) = {}\".format(-1, 1, AND_logicFunction(test2)))\n",
    "print(\"AND({}, {}) = {}\".format(1, -1, AND_logicFunction(test3)))\n",
    "print(\"AND({}, {}) = {}\".format(1, 1, AND_logicFunction(test4)))"
   ]
  }
 ],
 "metadata": {
  "kernelspec": {
   "display_name": "Python 3",
   "language": "python",
   "name": "python3"
  },
  "language_info": {
   "codemirror_mode": {
    "name": "ipython",
    "version": 3
   },
   "file_extension": ".py",
   "mimetype": "text/x-python",
   "name": "python",
   "nbconvert_exporter": "python",
   "pygments_lexer": "ipython3",
   "version": "3.10.0"
  },
  "orig_nbformat": 4,
  "vscode": {
   "interpreter": {
    "hash": "26de051ba29f2982a8de78e945f0abaf191376122a1563185a90213a26c5da77"
   }
  }
 },
 "nbformat": 4,
 "nbformat_minor": 2
}
