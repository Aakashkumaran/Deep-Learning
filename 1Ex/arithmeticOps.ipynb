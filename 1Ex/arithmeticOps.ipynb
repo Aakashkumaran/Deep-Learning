{
 "cells": [
  {
   "cell_type": "code",
   "execution_count": 2,
   "metadata": {},
   "outputs": [],
   "source": [
    "import torch"
   ]
  },
  {
   "cell_type": "code",
   "execution_count": 3,
   "metadata": {},
   "outputs": [
    {
     "name": "stdout",
     "output_type": "stream",
     "text": [
      "tensor([[3, 5],\n",
      "        [1, 7]])\n",
      "tensor([[3, 5],\n",
      "        [1, 7]])\n",
      "tensor([[3, 5],\n",
      "        [1, 7]])\n"
     ]
    },
    {
     "name": "stderr",
     "output_type": "stream",
     "text": [
      "C:\\Users\\dllab.DLL-047\\AppData\\Local\\Temp\\ipykernel_17016\\906339351.py:1: UserWarning: Failed to initialize NumPy: No module named 'numpy' (Triggered internally at C:\\actions-runner\\_work\\pytorch\\pytorch\\builder\\windows\\pytorch\\torch\\csrc\\utils\\tensor_numpy.cpp:77.)\n",
      "  tensor_1 = torch.tensor([[1, 2], [1, 3]])\n"
     ]
    }
   ],
   "source": [
    "tensor_1 = torch.tensor([[1, 2], [1, 3]])\n",
    "tensor_2 = torch.tensor([[2, 3], [0, 4]])\n",
    "\n",
    "print(tensor_1 + tensor_2)\n",
    "print(torch.add(tensor_1, tensor_2))\n",
    "print(tensor_1.add(tensor_2))\n"
   ]
  },
  {
   "cell_type": "code",
   "execution_count": 4,
   "metadata": {},
   "outputs": [
    {
     "name": "stdout",
     "output_type": "stream",
     "text": [
      "tensor([[-1, -1],\n",
      "        [ 1, -1]])\n",
      "tensor([[-1, -1],\n",
      "        [ 1, -1]])\n",
      "tensor([[-1, -1],\n",
      "        [ 1, -1]])\n"
     ]
    }
   ],
   "source": [
    "print(tensor_1 - tensor_2)\n",
    "print(torch.sub(tensor_1, tensor_2))\n",
    "print(tensor_1.sub(tensor_2))"
   ]
  },
  {
   "cell_type": "code",
   "execution_count": 5,
   "metadata": {},
   "outputs": [
    {
     "name": "stdout",
     "output_type": "stream",
     "text": [
      "tensor([[ 2,  6],\n",
      "        [ 0, 12]])\n",
      "tensor([[ 2,  6],\n",
      "        [ 0, 12]])\n",
      "tensor([[ 2,  6],\n",
      "        [ 0, 12]])\n"
     ]
    }
   ],
   "source": [
    "print(tensor_1 * tensor_2)\n",
    "print(torch.mul(tensor_1, tensor_2))\n",
    "print(tensor_1.mul(tensor_2))"
   ]
  },
  {
   "cell_type": "code",
   "execution_count": 6,
   "metadata": {},
   "outputs": [
    {
     "name": "stdout",
     "output_type": "stream",
     "text": [
      "tensor([[0.5000, 0.6667],\n",
      "        [   inf, 0.7500]])\n",
      "tensor([[0.5000, 0.6667],\n",
      "        [   inf, 0.7500]])\n",
      "tensor([[0.5000, 0.6667],\n",
      "        [   inf, 0.7500]])\n"
     ]
    }
   ],
   "source": [
    "print(tensor_1 / tensor_2)\n",
    "print(torch.div(tensor_1, tensor_2))\n",
    "print(tensor_1.div(tensor_2))"
   ]
  },
  {
   "cell_type": "code",
   "execution_count": 7,
   "metadata": {},
   "outputs": [
    {
     "name": "stdout",
     "output_type": "stream",
     "text": [
      "tensor([[ 1,  8],\n",
      "        [ 1, 81]])\n",
      "tensor([[ 1,  8],\n",
      "        [ 1, 81]])\n",
      "tensor([[ 1,  8],\n",
      "        [ 1, 81]])\n"
     ]
    }
   ],
   "source": [
    "print(tensor_1 ** tensor_2)\n",
    "print(torch.pow(tensor_1, tensor_2))\n",
    "print(tensor_1.pow(tensor_2))"
   ]
  },
  {
   "cell_type": "code",
   "execution_count": 8,
   "metadata": {},
   "outputs": [
    {
     "name": "stdout",
     "output_type": "stream",
     "text": [
      "tensor([[1, 2],\n",
      "        [4, 0]])\n",
      "tensor([[1, 2],\n",
      "        [4, 0]])\n",
      "tensor([[1, 2],\n",
      "        [4, 0]])\n"
     ]
    }
   ],
   "source": [
    "tensor_1 = torch.tensor([[3, 8], [9, 4]])\n",
    "tensor_2 = torch.tensor([[2, 3], [5, 4]])\n",
    "\n",
    "print(tensor_1 % tensor_2)\n",
    "print(torch.remainder(tensor_1, tensor_2))\n",
    "print(tensor_1.remainder(tensor_2))"
   ]
  },
  {
   "cell_type": "code",
   "execution_count": null,
   "metadata": {},
   "outputs": [],
   "source": [
    "uninitialized = torch.Tensor(3,2)\n",
    "rand_initialized = torch.rand(3,2)\n",
    "matrix_with_ones = torch.ones(3,2)\n",
    "matrix_with_zeros = torch.zeros(3,2)"
   ]
  },
  {
   "cell_type": "code",
   "execution_count": null,
   "metadata": {},
   "outputs": [],
   "source": [
    "x = torch.ones(3,2)\n",
    "y = torch.ones(3,2) + 2"
   ]
  },
  {
   "cell_type": "code",
   "execution_count": null,
   "metadata": {},
   "outputs": [],
   "source": [
    "x = torch.rand(2,3,4)\n",
    "x_with_2n3_dimension = x[1, :, :]\n",
    "scalar_x = x[1,1,1]     # first value from each dimension"
   ]
  },
  {
   "cell_type": "code",
   "execution_count": null,
   "metadata": {},
   "outputs": [],
   "source": [
    "# numpy like slicing\n",
    "x = torch.rand(2,3)\n",
    "print(x[:, 1:])        # skipping first column\n",
    "print(x[:-1, :])       # skipping last row\n"
   ]
  },
  {
   "cell_type": "code",
   "execution_count": null,
   "metadata": {},
   "outputs": [],
   "source": [
    "# transpose\n",
    "x = torch.rand(2,3)\n",
    "print(x.t())           # size 3x2\n"
   ]
  },
  {
   "cell_type": "code",
   "execution_count": null,
   "metadata": {},
   "outputs": [],
   "source": [
    "# concatenation and stacking\n",
    "x = torch.rand(2,3)\n",
    "concat = torch.cat((x,x))\n",
    "print(concat)         # Concatenates 2 tensors on zeroth dimension\n"
   ]
  },
  {
   "cell_type": "code",
   "execution_count": null,
   "metadata": {},
   "outputs": [],
   "source": [
    "x = torch.rand(2,3)\n",
    "concat = torch.cat((x,x), dim=1)\n",
    "print(concat)         # Concatenates 2 tensors on first dimension\n"
   ]
  },
  {
   "cell_type": "code",
   "execution_count": null,
   "metadata": {},
   "outputs": [],
   "source": [
    "x = torch.rand(2,3)\n",
    "stacked = torch.stack((x,x), dim=0)\n",
    "print(stacked)        # returns 2x2x3 tensor"
   ]
  },
  {
   "cell_type": "code",
   "execution_count": null,
   "metadata": {},
   "outputs": [],
   "source": [
    "# split: you can use chunk as well\n",
    "x = torch.rand(2,3)\n",
    "splitted = x.split(split_size=2, dim=0)\n",
    "print(splitted)       # 2 tensors of 2x2 and 1x2 size\n"
   ]
  },
  {
   "cell_type": "code",
   "execution_count": null,
   "metadata": {},
   "outputs": [],
   "source": [
    "#sqeeze and unsqueeze\n",
    "x = torch.rand(3,2,1) # a tensor of size 3x2x1\n",
    "squeezed = x.squeeze()\n",
    "print(squeezed)       # remove the 1 sized dimension\n"
   ]
  },
  {
   "cell_type": "code",
   "execution_count": null,
   "metadata": {},
   "outputs": [],
   "source": [
    "x = torch.rand(3)\n",
    "with_fake_dimension = x.unsqueeze(0)\n",
    "print(with_fake_dimension)        # added a fake zeroth dimension"
   ]
  }
 ],
 "metadata": {
  "kernelspec": {
   "display_name": "Python 3",
   "language": "python",
   "name": "python3"
  },
  "language_info": {
   "codemirror_mode": {
    "name": "ipython",
    "version": 3
   },
   "file_extension": ".py",
   "mimetype": "text/x-python",
   "name": "python",
   "nbconvert_exporter": "python",
   "pygments_lexer": "ipython3",
   "version": "3.10.6 (main, Nov 14 2022, 16:10:14) [GCC 11.3.0]"
  },
  "orig_nbformat": 4,
  "vscode": {
   "interpreter": {
    "hash": "916dbcbb3f70747c44a77c7bcd40155683ae19c65e1c03b4aa3499c5328201f1"
   }
  }
 },
 "nbformat": 4,
 "nbformat_minor": 2
}
