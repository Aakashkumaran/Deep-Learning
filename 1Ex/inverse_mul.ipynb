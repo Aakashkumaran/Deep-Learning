{
 "cells": [
  {
   "cell_type": "code",
   "execution_count": 8,
   "metadata": {},
   "outputs": [
    {
     "data": {
      "text/plain": [
       "tensor([[-2.0000e+00,  6.8000e-01,  2.8000e-01],\n",
       "        [-1.7030e-08, -4.0000e-02,  1.6000e-01],\n",
       "        [ 1.0000e+00, -2.0000e-01, -2.0000e-01]])"
      ]
     },
     "execution_count": 8,
     "metadata": {},
     "output_type": "execute_result"
    }
   ],
   "source": [
    "import torch as t\n",
    "\n",
    "mat_1 = t.tensor([[1.0, 2.0, 3.0],\n",
    "                      [4.0, 3.0, 8.0],\n",
    "                      [1.0, 7.0, 2.0]])\n",
    "\n",
    "t.linalg.inv(mat_1)"
   ]
  },
  {
   "cell_type": "code",
   "execution_count": 19,
   "metadata": {},
   "outputs": [
    {
     "name": "stdout",
     "output_type": "stream",
     "text": [
      "tensor([[ 4.7962e-05, -3.4258e-05,  5.9952e-05],\n",
      "        [-1.1990e-04,  2.3981e-05, -3.9968e-05],\n",
      "        [ 2.6645e-05, -5.9952e-05,  2.9976e-05]])\n"
     ]
    }
   ],
   "source": [
    "import torch as t\n",
    "\n",
    "mat = t.tensor([[5.0, 7.0, 4.0],\n",
    "                      [2.0, 10.0, 6.0],\n",
    "                      [9.0, 4.0, 8.0]])\n",
    "\n",
    "\n",
    "\n",
    "mul1_1=(mat[1][1]*mat[2][2])-(mat[1][2]*mat[2][1])\n",
    "mul1_2=(mat[1][0]*mat[2][2])-(mat[1][2]*mat[2][0])\n",
    "mul1_3=(mat[1][0]*mat[2][1])-(mat[1][1]*mat[2][1])\n",
    "\n",
    "mul2_1=(mat[0][1]*mat[2][2])-(mat[0][2]*mat[2][1])\n",
    "mul2_2=(mat[0][0]*mat[2][2])-(mat[0][2]*mat[2][0])\n",
    "mul2_3=(mat[0][0]*mat[2][1])-(mat[0][1]*mat[2][0])\n",
    "\n",
    "mul3_1=(mat[0][1]*mat[1][2])-(mat[0][2]*mat[1][1])\n",
    "mul3_2=(mat[0][0]*mat[1][2])-(mat[0][2]*mat[1][2])\n",
    "mul3_3=(mat[0][0]*mat[1][1])-(mat[0][1]*mat[1][0])\n",
    "\n",
    "new_mat=t.tensor([[mul1_1,mul1_2,mul1_3],[mul2_1,mul2_2,mul2_3],[mul3_1,mul3_2,mul3_3]])\n",
    "\n",
    "#determinant\n",
    "\n",
    "val=(mul1_1*mul2_1)-(mul1_2*mul2_1)+(mul1_3*mul2_1)-(mul1_2*mul2_2)+(mul2_1*mul3_2)-(mul2_2*mul3_1)+(mul2_3*mul3_2)-(mul2_2*mul3_2)+(mul1_1*mul3_2)-(mul1_2*mul3_1)+(mul1_3*mul3_2)-(mul1_2*mul3_3)\n",
    "\n",
    "\n",
    "#print(new_mat)\n",
    "\n",
    "#adjoint\n",
    "\n",
    "adj_matrix=t.tensor([[1*mat[0][0],-1*mat[0][1],1*mat[0][2]],[-1*mat[1][0],1*mat[1][1],-1*mat[1][2]],[1*mat[2][0],-1*mat[2][1],1*mat[2][2]]])\n",
    "\n",
    "#print(adj_matrix)\n",
    "\n",
    "#A^-1\n",
    "\n",
    "result=1/(val*adj_matrix)\n",
    "\n",
    "print(result)\n",
    "\n",
    "\n",
    "\n",
    "\n",
    "\n",
    "\n",
    "\n"
   ]
  }
 ],
 "metadata": {
  "kernelspec": {
   "display_name": "Python 3",
   "language": "python",
   "name": "python3"
  },
  "language_info": {
   "codemirror_mode": {
    "name": "ipython",
    "version": 3
   },
   "file_extension": ".py",
   "mimetype": "text/x-python",
   "name": "python",
   "nbconvert_exporter": "python",
   "pygments_lexer": "ipython3",
   "version": "3.10.0"
  },
  "orig_nbformat": 4,
  "vscode": {
   "interpreter": {
    "hash": "26de051ba29f2982a8de78e945f0abaf191376122a1563185a90213a26c5da77"
   }
  }
 },
 "nbformat": 4,
 "nbformat_minor": 2
}
