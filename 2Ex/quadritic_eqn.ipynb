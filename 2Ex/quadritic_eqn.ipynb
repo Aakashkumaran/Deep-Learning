{
 "cells": [
  {
   "cell_type": "code",
   "execution_count": 21,
   "metadata": {},
   "outputs": [],
   "source": [
    "import torch\n",
    "from torch import Tensor\n",
    "from torch.nn import Linear, MSELoss, functional as F\n",
    "from torch.optim import SGD, Adam, RMSprop\n",
    "from torch.autograd import Variable\n",
    "import numpy as np"
   ]
  },
  {
   "cell_type": "code",
   "execution_count": 23,
   "metadata": {},
   "outputs": [],
   "source": [
    "def data_generator(data_size=50):\n",
    "    inputs = []\n",
    "    labels = []\n",
    "    for ix in range(data_size):        \n",
    "        x = np.random.randint(1000) / 1000\n",
    "        y = 7*(x*x*x) + 8*x+ 2\n",
    "        inputs.append([x])\n",
    "        labels.append([y])\n",
    "        \n",
    "    return inputs, labels\n"
   ]
  },
  {
   "cell_type": "code",
   "execution_count": 24,
   "metadata": {},
   "outputs": [],
   "source": [
    "class Net(torch.nn.Module):\n",
    "    def __init__(self):\n",
    "        super(Net, self).__init__()\n",
    "        self.fc1 = Linear(1, 6)\n",
    "        self.fc3 = Linear(6, 1)\n",
    "        \n",
    "    def forward(self, x):\n",
    "        x = F.dropout(F.relu(self.fc1(x)), p=0.5)\n",
    "        x = self.fc3(x)\n",
    "        return x   \n",
    "model = Net()"
   ]
  },
  {
   "cell_type": "code",
   "execution_count": 25,
   "metadata": {},
   "outputs": [],
   "source": [
    "critereon = MSELoss()\n",
    "optimizer = SGD(model.parameters(), lr=0.01)\n",
    "\n"
   ]
  },
  {
   "cell_type": "code",
   "execution_count": 27,
   "metadata": {},
   "outputs": [],
   "source": [
    "nb_epochs = 70\n",
    "data_size = 50"
   ]
  },
  {
   "cell_type": "code",
   "execution_count": 28,
   "metadata": {},
   "outputs": [
    {
     "name": "stdout",
     "output_type": "stream",
     "text": [
      "Epoch: 0 Loss: 277.50811767578125\n",
      "Epoch: 1 Loss: 2.0689637660980225\n",
      "Epoch: 2 Loss: 17.184776306152344\n",
      "Epoch: 3 Loss: 6.836360931396484\n",
      "Epoch: 4 Loss: 5.304415225982666\n",
      "Epoch: 5 Loss: 6.306762218475342\n",
      "Epoch: 6 Loss: 2.5163745880126953\n",
      "Epoch: 7 Loss: 0.0572935976088047\n",
      "Epoch: 8 Loss: 3.241147518157959\n",
      "Epoch: 9 Loss: 34.38291931152344\n",
      "Epoch: 10 Loss: 1.060042142868042\n",
      "Epoch: 11 Loss: 0.0013087695697322488\n",
      "Epoch: 12 Loss: 0.0422324575483799\n",
      "Epoch: 13 Loss: 3.5118422508239746\n",
      "Epoch: 14 Loss: 24.890085220336914\n",
      "Epoch: 15 Loss: 5.099832057952881\n",
      "Epoch: 16 Loss: 0.017950329929590225\n",
      "Epoch: 17 Loss: 5.819233417510986\n",
      "Epoch: 18 Loss: 12.635748863220215\n",
      "Epoch: 19 Loss: 7.805488109588623\n",
      "Epoch: 20 Loss: 0.020953839644789696\n",
      "Epoch: 21 Loss: 11.162249565124512\n",
      "Epoch: 22 Loss: 0.18413829803466797\n",
      "Epoch: 23 Loss: 13.68826961517334\n",
      "Epoch: 24 Loss: 29.21406364440918\n",
      "Epoch: 25 Loss: 0.7125482559204102\n",
      "Epoch: 26 Loss: 0.03386969491839409\n",
      "Epoch: 27 Loss: 4.110389709472656\n",
      "Epoch: 28 Loss: 0.02566644549369812\n",
      "Epoch: 29 Loss: 0.5124574303627014\n",
      "Epoch: 30 Loss: 12.610370635986328\n",
      "Epoch: 31 Loss: 6.340692043304443\n",
      "Epoch: 32 Loss: 29.265869140625\n",
      "Epoch: 33 Loss: 21.895235061645508\n",
      "Epoch: 34 Loss: 34.5697135925293\n",
      "Epoch: 35 Loss: 114.96141052246094\n",
      "Epoch: 36 Loss: 0.1207614466547966\n",
      "Epoch: 37 Loss: 0.053184881806373596\n",
      "Epoch: 38 Loss: 0.04213980585336685\n",
      "Epoch: 39 Loss: 0.01922512799501419\n",
      "Epoch: 40 Loss: 29.47808837890625\n",
      "Epoch: 41 Loss: 0.027222784236073494\n",
      "Epoch: 42 Loss: 5.512291431427002\n",
      "Epoch: 43 Loss: 1.923187255859375\n",
      "Epoch: 44 Loss: 2.0124504566192627\n",
      "Epoch: 45 Loss: 106.05261993408203\n",
      "Epoch: 46 Loss: 33.0037727355957\n",
      "Epoch: 47 Loss: 41.445579528808594\n",
      "Epoch: 48 Loss: 0.23295176029205322\n",
      "Epoch: 49 Loss: 143.3072509765625\n",
      "Epoch: 50 Loss: 0.0424959771335125\n",
      "Epoch: 51 Loss: 0.8361502289772034\n",
      "Epoch: 52 Loss: 1.5317442417144775\n",
      "Epoch: 53 Loss: 0.05613125488162041\n",
      "Epoch: 54 Loss: 0.0009319193195551634\n",
      "Epoch: 55 Loss: 0.06832508742809296\n",
      "Epoch: 56 Loss: 0.003158845007419586\n",
      "Epoch: 57 Loss: 44.95655059814453\n",
      "Epoch: 58 Loss: 6.28139591217041\n",
      "Epoch: 59 Loss: 19.581327438354492\n",
      "Epoch: 60 Loss: 27.406923294067383\n",
      "Epoch: 61 Loss: 1.576104998588562\n",
      "Epoch: 62 Loss: 0.19271190464496613\n",
      "Epoch: 63 Loss: 0.030223926529288292\n",
      "Epoch: 64 Loss: 7.167046546936035\n",
      "Epoch: 65 Loss: 2.752272844314575\n",
      "Epoch: 66 Loss: 16.152170181274414\n",
      "Epoch: 67 Loss: 0.43800246715545654\n",
      "Epoch: 68 Loss: 0.009435776621103287\n",
      "Epoch: 69 Loss: 2.9920406341552734\n"
     ]
    }
   ],
   "source": [
    "for epoch in range(nb_epochs):\n",
    "    X, y = data_generator(data_size)\n",
    "    \n",
    "    epoch_loss = 0\n",
    "    \n",
    "    for ix in range(data_size):\n",
    "        y_pred = model(Variable(Tensor(X[ix])))\n",
    "        loss = critereon(y_pred, Variable(Tensor(y[ix]), requires_grad=False)) \n",
    "        # print(loss.data)    \n",
    "        epoch_loss = loss.data\n",
    "        optimizer.zero_grad()\n",
    "        loss.backward()\n",
    "        optimizer.step()\n",
    "    \n",
    "    print(\"Epoch: {} Loss: {}\".format(epoch, epoch_loss))\n",
    "#test the model\n"
   ]
  },
  {
   "cell_type": "code",
   "execution_count": 29,
   "metadata": {},
   "outputs": [
    {
     "name": "stdout",
     "output_type": "stream",
     "text": [
      "Prediction: 6.402632713317871\n",
      "Expected: [6.225852837000001]\n"
     ]
    }
   ],
   "source": [
    "model.eval()\n",
    "test_data = data_generator(1)\n",
    "prediction = model(Variable(Tensor(test_data[0][0])))\n",
    "print(\"Prediction: {}\".format(prediction.data[0]))\n",
    "print(\"Expected: {}\".format(test_data[1][0]))"
   ]
  }
 ],
 "metadata": {
  "kernelspec": {
   "display_name": "Python 3",
   "language": "python",
   "name": "python3"
  },
  "language_info": {
   "codemirror_mode": {
    "name": "ipython",
    "version": 3
   },
   "file_extension": ".py",
   "mimetype": "text/x-python",
   "name": "python",
   "nbconvert_exporter": "python",
   "pygments_lexer": "ipython3",
   "version": "3.10.6 (main, Nov 14 2022, 16:10:14) [GCC 11.3.0]"
  },
  "orig_nbformat": 4,
  "vscode": {
   "interpreter": {
    "hash": "916dbcbb3f70747c44a77c7bcd40155683ae19c65e1c03b4aa3499c5328201f1"
   }
  }
 },
 "nbformat": 4,
 "nbformat_minor": 2
}
